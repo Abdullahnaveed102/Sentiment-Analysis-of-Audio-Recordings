{
  "cells": [
    {
      "cell_type": "markdown",
      "metadata": {
        "id": "7gHPvLiX4p6N"
      },
      "source": [
        "# **Project 1: Sentiment Analysis from Audio Recordings**"
      ]
    },
    {
      "cell_type": "markdown",
      "metadata": {
        "id": "cnSas0s-8WVS"
      },
      "source": [
        "##**Team Members:**\n",
        "\n",
        "1. Muhammad Ammar Ibrahim [23110345]\n",
        "2. Abdullah Naveed [23100239]\n",
        "3. Muhammad Hassan [23100199]"
      ]
    },
    {
      "cell_type": "markdown",
      "metadata": {
        "id": "D_7OUQns5lhQ"
      },
      "source": [
        "---\n",
        "##**Motivation**\n",
        "\n",
        "Sentiment analysis from audio recordings is the process of using natural language processing techniques to analyze the emotional tone of spoken language in audio files. This can be done using machine learning algorithms that identify patterns and features in the audio, such as intonation, pitch, and tempo, to infer the underlying sentiment of the speaker. Sentiment analysis from audio recordings has a wide range of applications, including in\n",
        "customer service, where it can be used to monitor customer sentiment and satisfaction during phone calls, and in social media monitoring, where it can help to identify trends and sentiment around specific topics. It can also be used in the entertainment industry, where sentiment analysis can help to gauge audience reactions to films, TV shows, and other forms of media."
      ]
    },
    {
      "cell_type": "markdown",
      "metadata": {
        "id": "g4HouzwS5QXG"
      },
      "source": [
        "##**Project Overview**\n",
        "\n",
        "In this project, you will work on the development of a classifier to identify the emotion/sentiment for each recorded audio. You will first remove noise from the audio files and then extract the features of the given audio signal and use these features for classification."
      ]
    },
    {
      "cell_type": "code",
      "execution_count": 1,
      "metadata": {
        "colab": {
          "base_uri": "https://localhost:8080/"
        },
        "id": "9iTw3GlU4onD",
        "outputId": "21b5d300-7eb3-46b5-ea6a-757af27d0c51"
      },
      "outputs": [
        {
          "output_type": "stream",
          "name": "stdout",
          "text": [
            "Mounted at /content/drive\n"
          ]
        }
      ],
      "source": [
        "from google.colab import drive\n",
        "drive.mount('/content/drive')"
      ]
    },
    {
      "cell_type": "code",
      "source": [
        "pip install python_speech_features"
      ],
      "metadata": {
        "colab": {
          "base_uri": "https://localhost:8080/"
        },
        "id": "elyqg0D2R6TI",
        "outputId": "836fef39-8897-49dd-9882-1d8a371bbdd0"
      },
      "execution_count": 4,
      "outputs": [
        {
          "output_type": "stream",
          "name": "stdout",
          "text": [
            "Looking in indexes: https://pypi.org/simple, https://us-python.pkg.dev/colab-wheels/public/simple/\n",
            "Collecting python_speech_features\n",
            "  Downloading python_speech_features-0.6.tar.gz (5.6 kB)\n",
            "  Preparing metadata (setup.py) ... \u001b[?25l\u001b[?25hdone\n",
            "Building wheels for collected packages: python_speech_features\n",
            "  Building wheel for python_speech_features (setup.py) ... \u001b[?25l\u001b[?25hdone\n",
            "  Created wheel for python_speech_features: filename=python_speech_features-0.6-py3-none-any.whl size=5886 sha256=ca582e333d8b738a51ec4b09e53031e029b4e16f93a674a95971700b84780feb\n",
            "  Stored in directory: /root/.cache/pip/wheels/5a/9e/68/30bad9462b3926c29e315df16b562216d12bdc215f4d240294\n",
            "Successfully built python_speech_features\n",
            "Installing collected packages: python_speech_features\n",
            "Successfully installed python_speech_features-0.6\n"
          ]
        }
      ]
    },
    {
      "cell_type": "code",
      "execution_count": 5,
      "metadata": {
        "id": "I0P1pckMZelI"
      },
      "outputs": [],
      "source": [
        "###################################################################> Libraries\n",
        "import glob\n",
        "import librosa\n",
        "import numpy as np\n",
        "import scipy.signal\n",
        "import pandas as pd\n",
        "import scipy.io.wavfile\n",
        "import matplotlib.pyplot as plt\n",
        "from sklearn import preprocessing\n",
        "import python_speech_features as psf\n",
        "# from sklearn.decomposition import PCA\n",
        "# from sklearn.preprocessing import LabelEncoder\n",
        "import soundfile # to read audio file"
      ]
    },
    {
      "cell_type": "markdown",
      "metadata": {
        "id": "wBmil0QxZpPa"
      },
      "source": [
        "---\n",
        "\n",
        "# **============================================> Loading Data**\n",
        "\n",
        "---"
      ]
    },
    {
      "cell_type": "markdown",
      "metadata": {
        "id": "9wgFZXxJaPFu"
      },
      "source": [
        "## **===> Drive Paths**"
      ]
    },
    {
      "cell_type": "code",
      "execution_count": 2,
      "metadata": {
        "id": "0XigSCy7ZkIk"
      },
      "outputs": [],
      "source": [
        "path_SentenceFilenames = '/content/drive/MyDrive/Colab Notebooks/data/SentenceFilenames.csv'\n",
        "path_audio = 'data/NoiseAudioWAV/**'"
      ]
    },
    {
      "cell_type": "markdown",
      "metadata": {
        "id": "yokncWc6586G"
      },
      "source": [
        "##**Data Set Description**\n",
        "CREMA-D is a data set of 7,442 original clips from 91 actors. These clips were from 48 male and 43 female actors between the ages of 20 and 74 coming from a variety of races and ethnicities (African America, Asian, Caucasian, Hispanic, and Unspecified). The actors spoke from a selection of 12 sentences. The sentences were presented using one of six different emotions (Anger, Disgust, Fear, Happy, Neutral and Sad) and four different emotion levels (Low, Medium, High and Unspecified)."
      ]
    },
    {
      "cell_type": "markdown",
      "metadata": {
        "id": "TLbxQxsneNXw"
      },
      "source": [
        "## **===> List of movie files used in study**"
      ]
    },
    {
      "cell_type": "code",
      "execution_count": 6,
      "metadata": {
        "colab": {
          "base_uri": "https://localhost:8080/",
          "height": 206
        },
        "id": "7VJwlJshcBrn",
        "outputId": "1acd19ca-a97d-4255-d2e1-b4cee20c2dfb"
      },
      "outputs": [
        {
          "output_type": "execute_result",
          "data": {
            "text/plain": [
              "   Stimulus_Number         Filename\n",
              "0                1  1001_IEO_NEU_XX\n",
              "1                2  1001_IEO_HAP_LO\n",
              "2                3  1001_IEO_HAP_MD\n",
              "3                4  1001_IEO_HAP_HI\n",
              "4                5  1001_IEO_SAD_LO"
            ],
            "text/html": [
              "\n",
              "  <div id=\"df-df9ad0c6-14cf-4f72-89c5-19b875bd6073\">\n",
              "    <div class=\"colab-df-container\">\n",
              "      <div>\n",
              "<style scoped>\n",
              "    .dataframe tbody tr th:only-of-type {\n",
              "        vertical-align: middle;\n",
              "    }\n",
              "\n",
              "    .dataframe tbody tr th {\n",
              "        vertical-align: top;\n",
              "    }\n",
              "\n",
              "    .dataframe thead th {\n",
              "        text-align: right;\n",
              "    }\n",
              "</style>\n",
              "<table border=\"1\" class=\"dataframe\">\n",
              "  <thead>\n",
              "    <tr style=\"text-align: right;\">\n",
              "      <th></th>\n",
              "      <th>Stimulus_Number</th>\n",
              "      <th>Filename</th>\n",
              "    </tr>\n",
              "  </thead>\n",
              "  <tbody>\n",
              "    <tr>\n",
              "      <th>0</th>\n",
              "      <td>1</td>\n",
              "      <td>1001_IEO_NEU_XX</td>\n",
              "    </tr>\n",
              "    <tr>\n",
              "      <th>1</th>\n",
              "      <td>2</td>\n",
              "      <td>1001_IEO_HAP_LO</td>\n",
              "    </tr>\n",
              "    <tr>\n",
              "      <th>2</th>\n",
              "      <td>3</td>\n",
              "      <td>1001_IEO_HAP_MD</td>\n",
              "    </tr>\n",
              "    <tr>\n",
              "      <th>3</th>\n",
              "      <td>4</td>\n",
              "      <td>1001_IEO_HAP_HI</td>\n",
              "    </tr>\n",
              "    <tr>\n",
              "      <th>4</th>\n",
              "      <td>5</td>\n",
              "      <td>1001_IEO_SAD_LO</td>\n",
              "    </tr>\n",
              "  </tbody>\n",
              "</table>\n",
              "</div>\n",
              "      <button class=\"colab-df-convert\" onclick=\"convertToInteractive('df-df9ad0c6-14cf-4f72-89c5-19b875bd6073')\"\n",
              "              title=\"Convert this dataframe to an interactive table.\"\n",
              "              style=\"display:none;\">\n",
              "        \n",
              "  <svg xmlns=\"http://www.w3.org/2000/svg\" height=\"24px\"viewBox=\"0 0 24 24\"\n",
              "       width=\"24px\">\n",
              "    <path d=\"M0 0h24v24H0V0z\" fill=\"none\"/>\n",
              "    <path d=\"M18.56 5.44l.94 2.06.94-2.06 2.06-.94-2.06-.94-.94-2.06-.94 2.06-2.06.94zm-11 1L8.5 8.5l.94-2.06 2.06-.94-2.06-.94L8.5 2.5l-.94 2.06-2.06.94zm10 10l.94 2.06.94-2.06 2.06-.94-2.06-.94-.94-2.06-.94 2.06-2.06.94z\"/><path d=\"M17.41 7.96l-1.37-1.37c-.4-.4-.92-.59-1.43-.59-.52 0-1.04.2-1.43.59L10.3 9.45l-7.72 7.72c-.78.78-.78 2.05 0 2.83L4 21.41c.39.39.9.59 1.41.59.51 0 1.02-.2 1.41-.59l7.78-7.78 2.81-2.81c.8-.78.8-2.07 0-2.86zM5.41 20L4 18.59l7.72-7.72 1.47 1.35L5.41 20z\"/>\n",
              "  </svg>\n",
              "      </button>\n",
              "      \n",
              "  <style>\n",
              "    .colab-df-container {\n",
              "      display:flex;\n",
              "      flex-wrap:wrap;\n",
              "      gap: 12px;\n",
              "    }\n",
              "\n",
              "    .colab-df-convert {\n",
              "      background-color: #E8F0FE;\n",
              "      border: none;\n",
              "      border-radius: 50%;\n",
              "      cursor: pointer;\n",
              "      display: none;\n",
              "      fill: #1967D2;\n",
              "      height: 32px;\n",
              "      padding: 0 0 0 0;\n",
              "      width: 32px;\n",
              "    }\n",
              "\n",
              "    .colab-df-convert:hover {\n",
              "      background-color: #E2EBFA;\n",
              "      box-shadow: 0px 1px 2px rgba(60, 64, 67, 0.3), 0px 1px 3px 1px rgba(60, 64, 67, 0.15);\n",
              "      fill: #174EA6;\n",
              "    }\n",
              "\n",
              "    [theme=dark] .colab-df-convert {\n",
              "      background-color: #3B4455;\n",
              "      fill: #D2E3FC;\n",
              "    }\n",
              "\n",
              "    [theme=dark] .colab-df-convert:hover {\n",
              "      background-color: #434B5C;\n",
              "      box-shadow: 0px 1px 3px 1px rgba(0, 0, 0, 0.15);\n",
              "      filter: drop-shadow(0px 1px 2px rgba(0, 0, 0, 0.3));\n",
              "      fill: #FFFFFF;\n",
              "    }\n",
              "  </style>\n",
              "\n",
              "      <script>\n",
              "        const buttonEl =\n",
              "          document.querySelector('#df-df9ad0c6-14cf-4f72-89c5-19b875bd6073 button.colab-df-convert');\n",
              "        buttonEl.style.display =\n",
              "          google.colab.kernel.accessAllowed ? 'block' : 'none';\n",
              "\n",
              "        async function convertToInteractive(key) {\n",
              "          const element = document.querySelector('#df-df9ad0c6-14cf-4f72-89c5-19b875bd6073');\n",
              "          const dataTable =\n",
              "            await google.colab.kernel.invokeFunction('convertToInteractive',\n",
              "                                                     [key], {});\n",
              "          if (!dataTable) return;\n",
              "\n",
              "          const docLinkHtml = 'Like what you see? Visit the ' +\n",
              "            '<a target=\"_blank\" href=https://colab.research.google.com/notebooks/data_table.ipynb>data table notebook</a>'\n",
              "            + ' to learn more about interactive tables.';\n",
              "          element.innerHTML = '';\n",
              "          dataTable['output_type'] = 'display_data';\n",
              "          await google.colab.output.renderOutput(dataTable, element);\n",
              "          const docLink = document.createElement('div');\n",
              "          docLink.innerHTML = docLinkHtml;\n",
              "          element.appendChild(docLink);\n",
              "        }\n",
              "      </script>\n",
              "    </div>\n",
              "  </div>\n",
              "  "
            ]
          },
          "metadata": {},
          "execution_count": 6
        }
      ],
      "source": [
        "###################################################################> Loading CSVs \n",
        "df_SentenceFilenames = pd.read_csv(path_SentenceFilenames)\n",
        "df_SentenceFilenames.head(5)"
      ]
    },
    {
      "cell_type": "markdown",
      "metadata": {
        "id": "TvQ-LXHci2AN"
      },
      "source": [
        "---\n",
        "## **===> Filename (.wav) labeling conventions**\n",
        "\n",
        "**1.** **The Actor id is a 4 digit number at the start of the file. Each subsequent identifier is separated by an underscore (_).**\n",
        "\n",
        "**2.** **Actors spoke from a selection of 12 sentences (in parentheses is the three letter acronym used in the second part of the filename):**\n",
        "\n",
        "* It's eleven o'clock (IEO).\n",
        "* That is exactly what happened (TIE).\n",
        "* I'm on my way to the meeting (IOM).\n",
        "* I wonder what this is about (IWW).\n",
        "* The airplane is almost full (TAI).\n",
        "* Maybe tomorrow it will be cold (MTI).\n",
        "* I would like a new alarm clock (IWL)\n",
        "* I think I have a doctor's appointment (ITH).\n",
        "* Don't forget a jacket (DFA).\n",
        "* I think I've seen this before (ITS).\n",
        "* The surface is slick (TSI).\n",
        "* We'll stop in a couple of minutes (WSI).\n",
        "\n",
        "**3.** **The sentences were presented using different emotion (in parentheses is the three letter code used in the third part of the filename):**\n",
        "\n",
        "* Anger (ANG)\n",
        "* Disgust (DIS)\n",
        "* Fear (FEA)\n",
        "* Happy/Joy (HAP)\n",
        "* Neutral (NEU)\n",
        "* Sad (SAD)\n",
        "\n",
        "**and emotion level (in parentheses is the two letter code used in the fourth part of the filename):**\n",
        "\n",
        "* Low (LO)\n",
        "* Medium (MD)\n",
        "* High (HI)\n",
        "* Unspecified (XX)\n",
        "---\n"
      ]
    },
    {
      "cell_type": "markdown",
      "metadata": {
        "id": "jb7L5qBSjULN"
      },
      "source": [
        "## **===> Loading Audio files + Noice Removal**\n",
        "\n",
        "### **==> loading one audio and removing noice**"
      ]
    },
    {
      "cell_type": "code",
      "execution_count": 8,
      "metadata": {
        "colab": {
          "base_uri": "https://localhost:8080/",
          "height": 607
        },
        "id": "Kwh-xNhEBqMY",
        "outputId": "402ed340-a93b-4097-808d-afb2443fd3e3"
      },
      "outputs": [
        {
          "output_type": "display_data",
          "data": {
            "text/plain": [
              "<Figure size 1200x600 with 2 Axes>"
            ],
            "image/png": "[encoded data removed]"
          },
          "metadata": {}
        }
      ],
      "source": [
        "#######################################################> cutoff\n",
        "cutoff = 5000  # Hz\n",
        "\n",
        "signal, sr = librosa.load('/content/drive/MyDrive/Colab Notebooks/data/NoiseAudioWAV/1001_DFA_ANG_XX.wav', sr=None)\n",
        "#######################################################> Noice Removal\n",
        "nyquist_rate = sr / 2\n",
        "cutoff_norm = cutoff / nyquist_rate\n",
        "b, a = scipy.signal.butter(4, cutoff_norm, btype='lowpass')\n",
        "y_filtered_one = scipy.signal.lfilter(b, a, signal)\n",
        "\n",
        "#######################################################> Plot original and filtered waveforms\n",
        "plt.figure(figsize=(12, 6))\n",
        "plt.subplot(2, 1, 1)\n",
        "plt.plot(signal)\n",
        "plt.title('Original waveform')\n",
        "plt.xlabel('Sample index')\n",
        "plt.ylabel('Amplitude')\n",
        "plt.subplot(2, 1, 2)\n",
        "plt.plot(y_filtered_one)\n",
        "plt.title('Filtered waveform')\n",
        "plt.xlabel('Sample index')\n",
        "plt.ylabel('Amplitude')\n",
        "plt.tight_layout()\n",
        "plt.show()"
      ]
    },
    {
      "cell_type": "code",
      "execution_count": 10,
      "metadata": {
        "colab": {
          "base_uri": "https://localhost:8080/",
          "height": 928
        },
        "id": "UL50k31Bor92",
        "outputId": "4f3b036e-fec2-4052-b782-3b4f90a35f7b"
      },
      "outputs": [
        {
          "output_type": "stream",
          "name": "stderr",
          "text": [
            "/usr/local/lib/python3.10/dist-packages/librosa/core/pitch.py:102: UserWarning: Trying to estimate tuning from empty frequency set.\n",
            "  return pitch_tuning(\n"
          ]
        },
        {
          "output_type": "display_data",
          "data": {
            "text/plain": [
              "<Figure size 640x480 with 2 Axes>"
            ],
            "image/png": "[encoded data removed]"
          },
          "metadata": {}
        },
        {
          "output_type": "display_data",
          "data": {
            "text/plain": [
              "<Figure size 640x480 with 2 Axes>"
            ],
            "image/png": "[encoded data removed]"
          },
          "metadata": {}
        }
      ],
      "source": [
        "# Load audio file\n",
        "y, sr = librosa.load('/content/drive/MyDrive/Colab Notebooks/data/NoiseAudioWAV/1001_DFA_ANG_XX.wav', sr=None)\n",
        "\n",
        "chroma0 = librosa.feature.chroma_stft(y=y, sr=sr)\n",
        "chroma1 = librosa.feature.chroma_stft(y=y_filtered_one, sr=sr)\n",
        "\n",
        "# Plot chromagram\n",
        "librosa.display.specshow(chroma0, x_axis='time', y_axis='chroma')\n",
        "plt.colorbar()\n",
        "plt.xlabel('Time (sec)')\n",
        "plt.ylabel('Pitch Class (original audio)')\n",
        "plt.show()\n",
        "librosa.display.specshow(chroma1, x_axis='time', y_axis='chroma')\n",
        "plt.colorbar()\n",
        "plt.xlabel('Time (sec)')\n",
        "plt.ylabel('Pitch Class (filtered audio)')\n",
        "plt.show()"
      ]
    },
    {
      "cell_type": "code",
      "execution_count": null,
      "metadata": {
        "id": "nR7Klb30CiQG"
      },
      "outputs": [],
      "source": [
        "# Save filtered audio as WAV file\n",
        "scipy.io.wavfile.write('/content/drive/MyDrive/Colab Notebooks/filtered_audio.wav', sr,y_filtered_one)"
      ]
    },
    {
      "cell_type": "markdown",
      "metadata": {
        "id": "kB3stQj4kEc4"
      },
      "source": [
        "## **===> Loading + Filtering + Feature Extraction**\n",
        "\n",
        "Before processing the audio files, you are required to select audio files from the dataset. You must create **training, validation and testing sets** that are best suited to train and evaluate your classifier(s). Then **remove the noise** from the selected audio files **using low pass filtering**. We require you to **review the literature** and identify a list of features that can be used\n",
        "for synthetic speech attribution. For your convenience, we have listed below the features that can be potentially used for the problem under consideration.\n",
        "\n",
        "1. **Fourier transform**\n",
        "2. **Mel frequency cepstral coefficients (MFCCs):** Features that describe the overall shape of a spectral envelope of the signal.\n",
        "3. **Melspectrogram :** A spectrogram where the signal frequencies are converted to Mel scale.\n",
        "4. **Chromagram:** Also known as chroma features, this is a representation for audio or speech signal in which the entire signal spectrum is projected onto 12 bins known as pitch classes.\n",
        "5. **Bicoherence:** Mean, variance, skewness and kutrosis of magnitude and phase of\n",
        "bicoherence.\n",
        "6. **Spectral centroid:** Location of center of mass of the spectrum.\n",
        "7. **Spectral bandwidth:** Difference between the highest and the lowest frequency in the spectrum.\n",
        "8. **Spectral contrast:** The decibel difference between peaks and valleys in the spectrum."
      ]
    },
    {
      "cell_type": "code",
      "execution_count": 11,
      "metadata": {
        "id": "Dl9s8wQNXRBw"
      },
      "outputs": [],
      "source": [
        "# Use this code to extract MFCC features from audio file\n",
        "def get_MFCC(audio, sr, numFeatures):\n",
        "    features = psf.mfcc(audio, sr, 0.025, 0.01, numFeatures, appendEnergy = True)\n",
        "    return np.mean(features, axis=0)"
      ]
    },
    {
      "cell_type": "code",
      "execution_count": 14,
      "metadata": {
        "colab": {
          "base_uri": "https://localhost:8080/"
        },
        "id": "YXHTEMMiRdNu",
        "outputId": "5d7a802f-0737-41b4-f3a9-8557da9dd224"
      },
      "outputs": [
        {
          "output_type": "stream",
          "name": "stderr",
          "text": [
            "/usr/local/lib/python3.10/dist-packages/librosa/core/pitch.py:102: UserWarning: Trying to estimate tuning from empty frequency set.\n",
            "  return pitch_tuning(\n"
          ]
        }
      ],
      "source": [
        "def filter(X,sr,cutoff):\n",
        "    nyquist_rate = sr / 2\n",
        "    cutoff_norm = cutoff / nyquist_rate\n",
        "    b, a = scipy.signal.butter(4, cutoff_norm, btype='lowpass', analog=False)\n",
        "    # return scipy.signal.lfilter(b, a, X)\n",
        "    return scipy.signal.filtfilt(b, a, X)\n",
        "\n",
        "def extract_feature(file_name, cutoff=5000, **kwargs):\n",
        "    mfcc = kwargs.get(\"mfcc\")\n",
        "    chroma = kwargs.get(\"chroma\")\n",
        "    mel = kwargs.get(\"mel\")\n",
        "    spec_centroid = kwargs.get(\"spec_centroid\")\n",
        "    spec_contrast = kwargs.get(\"spec_contrast\")\n",
        "    spec_bandwidth = kwargs.get(\"spec_bandwidth\")\n",
        "    spec_rolloff = kwargs.get(\"spec_rolloff\")\n",
        "    spec_flatness = kwargs.get(\"spec_flatness\")\n",
        "\n",
        "    with soundfile.SoundFile(file_name) as sound_file:\n",
        "        X = sound_file.read(dtype=\"float32\")\n",
        "        sample_rate = sound_file.samplerate\n",
        "        X = filter(X, sample_rate, cutoff)\n",
        "        result = np.array([])\n",
        "\n",
        "        if mfcc:\n",
        "            mfccs = get_MFCC(X, sample_rate, 200)\n",
        "            # mfccs = np.mean(librosa.feature.mfcc(\n",
        "                # y=X, sr=sample_rate, n_mfcc=40).T, axis=0)\n",
        "            result = np.hstack((result, mfccs))\n",
        "\n",
        "        if chroma:\n",
        "            chroma_stft = np.mean(librosa.feature.chroma_stft(\n",
        "                y=X, sr=sample_rate, n_chroma=225).T, axis=0)\n",
        "            result = np.hstack((result, chroma_stft))\n",
        "\n",
        "        if mel:\n",
        "            mel = np.mean(librosa.feature.melspectrogram(\n",
        "                y=X, sr=sample_rate, n_mels=225).T, axis=0)\n",
        "            result = np.hstack((result, mel))\n",
        "\n",
        "        if spec_centroid:\n",
        "            spec_centroid = np.mean(librosa.feature.spectral_centroid(\n",
        "                y=X, sr=sample_rate, n_fft=2048).T, axis=0)\n",
        "            result = np.hstack((result, spec_centroid))\n",
        "\n",
        "        if spec_contrast:\n",
        "            spec_contrast = np.mean(librosa.feature.spectral_contrast(\n",
        "                y=X, sr=sample_rate, n_fft=2048).T, axis=0)\n",
        "            result = np.hstack((result, spec_contrast))\n",
        "\n",
        "        if spec_bandwidth:\n",
        "            spec_bandwidth = np.mean(librosa.feature.spectral_bandwidth(\n",
        "                y=X, sr=sample_rate, n_fft=2048).T, axis=0)\n",
        "            result = np.hstack((result, spec_bandwidth))\n",
        "\n",
        "        if spec_rolloff:\n",
        "            spec_rolloff = np.mean(librosa.feature.spectral_rolloff(\n",
        "                y=X, sr=sample_rate, n_fft=2048).T, axis=0)\n",
        "            result = np.hstack((result, spec_rolloff))\n",
        "\n",
        "        if spec_flatness:\n",
        "            spec_flatness = np.mean(librosa.feature.spectral_flatness(\n",
        "                y=X, n_fft=2048).T, axis=0)\n",
        "            result = np.hstack((result, spec_flatness))\n",
        "\n",
        "    return result\n",
        "\n",
        "def load_data():\n",
        "    X, y = [], []\n",
        "    for file in glob.glob(\"/content/drive/MyDrive/Colab Notebooks/data/NoiseAudioWAV/*.wav\"):\n",
        "        features = extract_feature(\n",
        "            file, mfcc=True, chroma=True, mel=True, spec_centroid=True, spec_contrast=True, spec_bandwidth=True, spec_rolloff=True, spec_flatness=True)\n",
        "        X.append(features)\n",
        "        label = file.split(\"_\")[2]\n",
        "        y.append(label)\n",
        "    return X, y\n",
        "\n",
        "X , y = load_data()"
      ]
    },
    {
      "cell_type": "markdown",
      "metadata": {
        "id": "XKQtudwbkPKj"
      },
      "source": [
        "## **===> Dimensionality Reduction (optional)**"
      ]
    },
    {
      "cell_type": "code",
      "execution_count": 22,
      "metadata": {
        "id": "Y24oEyTWoDvE"
      },
      "outputs": [],
      "source": [
        "from sklearn.discriminant_analysis import LinearDiscriminantAnalysis # LDA feature reduction\n",
        "\n",
        "#=====================================================> Standardize\n",
        "# scaler = preprocessing.StandardScaler().fit(X) # standardize the data\n",
        "# X = scaler.transform(X)\n",
        "\n",
        "#=====================================================> Normalize\n",
        "X_normal = preprocessing.normalize(X) # normalize the data\n",
        "\n",
        "lda = LinearDiscriminantAnalysis()\n",
        "X_lda = lda.fit_transform(X_normal, y)\n"
      ]
    },
    {
      "cell_type": "markdown",
      "metadata": {
        "id": "1yhpLwmMkXpz"
      },
      "source": [
        "## **===> Train-Test Split**"
      ]
    },
    {
      "cell_type": "code",
      "execution_count": 23,
      "metadata": {
        "colab": {
          "base_uri": "https://localhost:8080/"
        },
        "id": "hi7-d4OQkV3f",
        "outputId": "57086bc1-39c4-44c7-f0b3-ccac5702d0eb"
      },
      "outputs": [
        {
          "output_type": "stream",
          "name": "stdout",
          "text": [
            "(7442, 5)\n"
          ]
        }
      ],
      "source": [
        "#=====================================================>\n",
        "X_lda = np.array(X_lda)\n",
        "print(X_lda.shape)"
      ]
    },
    {
      "cell_type": "code",
      "execution_count": 24,
      "metadata": {
        "id": "lNyuF3Opkha0"
      },
      "outputs": [],
      "source": [
        "from sklearn.model_selection import train_test_split\n",
        "X_train, X_test, y_train, y_test = train_test_split(np.array(X_lda), y, test_size=0.25, random_state=7)"
      ]
    },
    {
      "cell_type": "code",
      "execution_count": 25,
      "metadata": {
        "colab": {
          "base_uri": "https://localhost:8080/"
        },
        "id": "A8la0xdIUdGC",
        "outputId": "994c1860-2e10-457c-8391-df74194239b2"
      },
      "outputs": [
        {
          "output_type": "stream",
          "name": "stdout",
          "text": [
            "5\n"
          ]
        }
      ],
      "source": [
        "print(len(X_train[0]))"
      ]
    },
    {
      "cell_type": "markdown",
      "metadata": {
        "id": "RtZkOc5RkhvY"
      },
      "source": [
        "---\n",
        "# **===> Training Models**\n",
        "---"
      ]
    },
    {
      "cell_type": "markdown",
      "metadata": {
        "id": "5vkeZ1Ny6PZ8"
      },
      "source": [
        "##**Classifiers**\n",
        "Followed by feature extraction, we require you to evaluate the performance of following:\n",
        "1.   K-Nearest Neighbors\n",
        "2.   Logistic Regression\n",
        "3.   Naive Bayes\n",
        "4.   Support Vector Machines\n",
        "5.   Neural Network\n",
        "\n",
        "You are allowed to use Scikit-learn implementations of the algorithms.\n",
        "\n",
        "---"
      ]
    },
    {
      "cell_type": "code",
      "execution_count": 26,
      "metadata": {
        "id": "7AOG-2Xvkr-G"
      },
      "outputs": [],
      "source": [
        "from sklearn.datasets import make_classification\n",
        "from sklearn.neighbors import KNeighborsClassifier\n",
        "from sklearn.linear_model import LogisticRegression\n",
        "from sklearn.naive_bayes import GaussianNB\n",
        "from sklearn.svm import SVC\n",
        "from sklearn.neural_network import MLPClassifier\n",
        "from sklearn.metrics import accuracy_score, f1_score\n",
        "\n",
        "# =======================================================> Instantiate the classifiers\n",
        "knn = KNeighborsClassifier(n_neighbors=20, p=1)\n",
        "lr = LogisticRegression()\n",
        "nb = GaussianNB()\n",
        "svm = SVC()\n",
        "nn = MLPClassifier(max_iter=500)\n",
        "\n",
        "# =======================================================> Train and predict using each classifier\n",
        "knn.fit(X_train, y_train)\n",
        "knn_preds = knn.predict(X_test)\n",
        "\n",
        "lr.fit(X_train, y_train)\n",
        "lr_preds = lr.predict(X_test)\n",
        "\n",
        "nb.fit(X_train, y_train)\n",
        "nb_preds = nb.predict(X_test)\n",
        "\n",
        "svm.fit(X_train, y_train)\n",
        "svm_preds = svm.predict(X_test)\n",
        "\n",
        "nn.fit(X_train, y_train)\n",
        "nn_preds = nn.predict(X_test)\n"
      ]
    },
    {
      "cell_type": "markdown",
      "metadata": {
        "id": "xF8zDqTqksay"
      },
      "source": [
        "---\n",
        "# **===> Evaluation**\n",
        "---"
      ]
    },
    {
      "cell_type": "code",
      "execution_count": 27,
      "metadata": {
        "id": "OPq0ZMtUk0pk",
        "colab": {
          "base_uri": "https://localhost:8080/"
        },
        "outputId": "326c9660-80a7-4f22-891a-64e00ca99c88"
      },
      "outputs": [
        {
          "output_type": "stream",
          "name": "stdout",
          "text": [
            "Accuracy Scores:\n",
            "K-Nearest Neighbors: 0.5416442772702847\n",
            "Logistic Regression: 0.5566899516389038\n",
            "Naive Bayes: 0.5298226759806556\n",
            "Support Vector Machines: 0.555077915099409\n",
            "Neural Network: 0.553465878559914\n",
            "\n",
            "F1 Scores:\n",
            "K-Nearest Neighbors: 0.5416442772702847\n",
            "Logistic Regression: 0.5566899516389038\n",
            "Naive Bayes: 0.5298226759806556\n",
            "Support Vector Machines: 0.555077915099409\n",
            "Neural Network: 0.553465878559914\n"
          ]
        }
      ],
      "source": [
        "from sklearn.metrics import accuracy_score, f1_score\n",
        "\n",
        "#=======================================================> accuracy_score\n",
        "knn_acc = accuracy_score(y_test, knn_preds)\n",
        "lr_acc = accuracy_score(y_test, lr_preds)\n",
        "nb_acc = accuracy_score(y_test, nb_preds)\n",
        "svm_acc = accuracy_score(y_test, svm_preds)\n",
        "nn_acc = accuracy_score(y_test, nn_preds)\n",
        "\n",
        "#=======================================================> f1_score\n",
        "knn_f1 = f1_score(y_test, knn_preds, average='micro')\n",
        "lr_f1 = f1_score(y_test, lr_preds, average='micro')\n",
        "nb_f1 = f1_score(y_test, nb_preds, average='micro')\n",
        "svm_f1 = f1_score(y_test, svm_preds, average='micro')\n",
        "nn_f1 = f1_score(y_test, nn_preds, average='micro')\n",
        "\n",
        "#=======================================================> Printing the results\n",
        "print(\"Accuracy Scores:\")\n",
        "print(\"K-Nearest Neighbors:\", knn_acc)\n",
        "print(\"Logistic Regression:\", lr_acc)\n",
        "print(\"Naive Bayes:\", nb_acc)\n",
        "print(\"Support Vector Machines:\", svm_acc)\n",
        "print(\"Neural Network:\", nn_acc)\n",
        "\n",
        "print(\"\\nF1 Scores:\")\n",
        "print(\"K-Nearest Neighbors:\", knn_f1)\n",
        "print(\"Logistic Regression:\", lr_f1)\n",
        "print(\"Naive Bayes:\", nb_f1)\n",
        "print(\"Support Vector Machines:\", svm_f1)\n",
        "print(\"Neural Network:\", nn_f1)"
      ]
    },
    {
      "cell_type": "markdown",
      "metadata": {
        "id": "q_9dNBIh07Jr"
      },
      "source": [
        "---\n",
        "# **===> Visualization**\n",
        "---"
      ]
    },
    {
      "cell_type": "code",
      "execution_count": 28,
      "metadata": {
        "id": "fHH-bZtR07ew",
        "colab": {
          "base_uri": "https://localhost:8080/",
          "height": 487
        },
        "outputId": "4e5696c6-ff8c-4007-963d-36150fe769a5"
      },
      "outputs": [
        {
          "output_type": "display_data",
          "data": {
            "text/plain": [
              "<Figure size 640x480 with 2 Axes>"
            ],
            "image/png": "[encoded data removed]"
          },
          "metadata": {}
        }
      ],
      "source": [
        "# =======================================================> Create bar plots to visualize the results\n",
        "acc_scores = [knn_acc, lr_acc, nb_acc, svm_acc, nn_acc]\n",
        "f1_scores = [knn_f1, lr_f1, nb_f1, svm_f1, nn_f1]\n",
        "\n",
        "plt.subplot(1, 2, 1)\n",
        "plt.bar(['KNN', 'LR', 'NB', 'SVM', 'NN'], acc_scores)\n",
        "plt.ylim(0, 1)\n",
        "plt.ylabel('Accuracy Score')\n",
        "plt.title('Classifiers Accuracy')\n",
        "\n",
        "plt.subplot(1, 2, 2)\n",
        "plt.bar(['KNN', 'LR', 'NB', 'SVM', 'NN'], f1_scores)\n",
        "plt.ylim(0, 1)\n",
        "plt.ylabel('F1 Score')\n",
        "plt.title('Classifiers F1 Score')\n",
        "\n",
        "plt.tight_layout()\n",
        "plt.show()"
      ]
    }
  ],
  "metadata": {
    "colab": {
      "provenance": []
    },
    "kernelspec": {
      "display_name": "Python 3",
      "name": "python3"
    },
    "language_info": {
      "codemirror_mode": {
        "name": "ipython",
        "version": 3
      },
      "file_extension": ".py",
      "mimetype": "text/x-python",
      "name": "python",
      "nbconvert_exporter": "python",
      "pygments_lexer": "ipython3",
      "version": "3.10.4"
    }
  },
  "nbformat": 4,
  "nbformat_minor": 0
}